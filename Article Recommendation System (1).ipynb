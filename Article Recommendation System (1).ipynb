{
  "nbformat": 4,
  "nbformat_minor": 0,
  "metadata": {
    "colab": {
      "provenance": []
    },
    "kernelspec": {
      "name": "python3",
      "display_name": "Python 3"
    },
    "language_info": {
      "name": "python"
    }
  },
  "cells": [
    {
      "cell_type": "markdown",
      "source": [
        "# Importing of libraries\n",
        "\n",
        "## What is TF-ID-Vectorizer?\n",
        "TF-IDF (Term Frequency-Inverse Document Frequency) is a numerical representation of text documents that captures the importance of words, considering their frequency within a document and rarity across the entire corpus.\n",
        "\n",
        "##What is cosine similarity?\n",
        "Cosine similarity measures the similarity between two vectors by calculating the cosine of the angle between them. It is commonly used in information retrieval and recommendation systems to compare the similarity of documents or items based on their feature vectors."
      ],
      "metadata": {
        "id": "dQRJZnMxBryt"
      }
    },
    {
      "cell_type": "code",
      "execution_count": null,
      "metadata": {
        "id": "RiikMaEjS_Zf"
      },
      "outputs": [],
      "source": [
        "import pandas as pd\n",
        "from IPython.display import display\n",
        "from sklearn.feature_extraction.text import TfidfVectorizer\n",
        "from sklearn.metrics.pairwise import cosine_similarity"
      ]
    },
    {
      "cell_type": "markdown",
      "source": [
        "Importing data set of shared articles"
      ],
      "metadata": {
        "id": "gCbR7Bk5EDSb"
      }
    },
    {
      "cell_type": "code",
      "source": [
        "articles_df = pd.read_csv('/content/drive/MyDrive/archive/shared_articles.csv')\n",
        "print(articles_df.shape)\n",
        "print(articles_df.columns)"
      ],
      "metadata": {
        "colab": {
          "base_uri": "https://localhost:8080/"
        },
        "id": "XsivP4rKYOtm",
        "outputId": "44ea018d-f365-4f0f-8557-12de2e4d67d8"
      },
      "execution_count": null,
      "outputs": [
        {
          "output_type": "stream",
          "name": "stdout",
          "text": [
            "(3122, 13)\n",
            "Index(['timestamp', 'eventType', 'contentId', 'authorPersonId',\n",
            "       'authorSessionId', 'authorUserAgent', 'authorRegion', 'authorCountry',\n",
            "       'contentType', 'url', 'title', 'text', 'lang'],\n",
            "      dtype='object')\n"
          ]
        }
      ]
    },
    {
      "cell_type": "markdown",
      "source": [
        "# Understanding dataset"
      ],
      "metadata": {
        "id": "sJ3X4N6CFH2F"
      }
    },
    {
      "cell_type": "code",
      "source": [
        "print(articles_df['timestamp'].head(5))"
      ],
      "metadata": {
        "id": "EbK5HjzHYSCW",
        "colab": {
          "base_uri": "https://localhost:8080/"
        },
        "outputId": "e9d93bff-1fdb-4a53-c58c-b5b66330a3d8"
      },
      "execution_count": null,
      "outputs": [
        {
          "output_type": "stream",
          "name": "stdout",
          "text": [
            "0    1459192779\n",
            "1    1459193988\n",
            "2    1459194146\n",
            "3    1459194474\n",
            "4    1459194497\n",
            "Name: timestamp, dtype: int64\n"
          ]
        }
      ]
    },
    {
      "cell_type": "code",
      "source": [
        "articles_df"
      ],
      "metadata": {
        "colab": {
          "base_uri": "https://localhost:8080/",
          "height": 1000
        },
        "id": "hirlrwSCGE4t",
        "outputId": "0c907ad1-ddae-4ee9-e94e-696877362b37"
      },
      "execution_count": null,
      "outputs": [
        {
          "output_type": "execute_result",
          "data": {
            "text/plain": [
              "       timestamp        eventType            contentId       authorPersonId  \\\n",
              "0     1459192779  CONTENT REMOVED -6451309518266745024  4340306774493623681   \n",
              "1     1459193988   CONTENT SHARED -4110354420726924665  4340306774493623681   \n",
              "2     1459194146   CONTENT SHARED -7292285110016212249  4340306774493623681   \n",
              "3     1459194474   CONTENT SHARED -6151852268067518688  3891637997717104548   \n",
              "4     1459194497   CONTENT SHARED  2448026894306402386  4340306774493623681   \n",
              "...          ...              ...                  ...                  ...   \n",
              "3117  1487946604   CONTENT SHARED  9213260650272029784  3609194402293569455   \n",
              "3118  1487947067   CONTENT SHARED -3295913657316686039  6960073744377754728   \n",
              "3119  1488223224   CONTENT SHARED  3618271604906293310  1908339160857512799   \n",
              "3120  1488300719   CONTENT SHARED  6607431762270322325 -1393866732742189886   \n",
              "3121  1488307871   CONTENT SHARED  4109618890343020064  3891637997717104548   \n",
              "\n",
              "          authorSessionId                                    authorUserAgent  \\\n",
              "0     8940341205206233829                                                NaN   \n",
              "1     8940341205206233829                                                NaN   \n",
              "2     8940341205206233829                                                NaN   \n",
              "3    -1457532940883382585                                                NaN   \n",
              "4     8940341205206233829                                                NaN   \n",
              "...                   ...                                                ...   \n",
              "3117  7144190892417579456  Mozilla/5.0 (Windows NT 10.0; WOW64) AppleWebK...   \n",
              "3118 -8193630595542572738  Mozilla/5.0 (Macintosh; Intel Mac OS X 10_12_3...   \n",
              "3119  -183341653743161643  Mozilla/5.0 (Macintosh; Intel Mac OS X 10_12_0...   \n",
              "3120  2367029511384577082  Mozilla/5.0 (X11; Linux x86_64) AppleWebKit/53...   \n",
              "3121 -7416795577834806518  Mozilla/5.0 (X11; Linux x86_64) AppleWebKit/53...   \n",
              "\n",
              "     authorRegion authorCountry contentType  \\\n",
              "0             NaN           NaN        HTML   \n",
              "1             NaN           NaN        HTML   \n",
              "2             NaN           NaN        HTML   \n",
              "3             NaN           NaN        HTML   \n",
              "4             NaN           NaN        HTML   \n",
              "...           ...           ...         ...   \n",
              "3117           SP            BR        HTML   \n",
              "3118           GA            US        HTML   \n",
              "3119           SP            BR        HTML   \n",
              "3120           MG            BR        HTML   \n",
              "3121           SP            BR        HTML   \n",
              "\n",
              "                                                    url  \\\n",
              "0     http://www.nytimes.com/2016/03/28/business/dea...   \n",
              "1     http://www.nytimes.com/2016/03/28/business/dea...   \n",
              "2     http://cointelegraph.com/news/bitcoin-future-w...   \n",
              "3     https://cloudplatform.googleblog.com/2016/03/G...   \n",
              "4     https://bitcoinmagazine.com/articles/ibm-wants...   \n",
              "...                                                 ...   \n",
              "3117  https://startupi.com.br/2017/02/liga-ventures-...   \n",
              "3118  https://thenextweb.com/apps/2017/02/14/amazon-...   \n",
              "3119                        https://code.org/about/2016   \n",
              "3120  https://www.bloomberg.com/news/articles/2017-0...   \n",
              "3121  https://www.acquia.com/blog/partner/2017-acqui...   \n",
              "\n",
              "                                                  title  \\\n",
              "0     Ethereum, a Virtual Currency, Enables Transact...   \n",
              "1     Ethereum, a Virtual Currency, Enables Transact...   \n",
              "2     Bitcoin Future: When GBPcoin of Branson Wins O...   \n",
              "3                          Google Data Center 360° Tour   \n",
              "4     IBM Wants to \"Evolve the Internet\" With Blockc...   \n",
              "...                                                 ...   \n",
              "3117  Conheça a Liga IoT, plataforma de inovação abe...   \n",
              "3118  Amazon takes on Skype and GoToMeeting with its...   \n",
              "3119                        Code.org 2016 Annual Report   \n",
              "3120  JPMorgan Software Does in Seconds What Took La...   \n",
              "3121               The 2017 Acquia Partners of the Year   \n",
              "\n",
              "                                                   text lang  \n",
              "0     All of this work is still very early. The firs...   en  \n",
              "1     All of this work is still very early. The firs...   en  \n",
              "2     The alarm clock wakes me at 8:00 with stream o...   en  \n",
              "3     We're excited to share the Google Data Center ...   en  \n",
              "4     The Aite Group projects the blockchain market ...   en  \n",
              "...                                                 ...  ...  \n",
              "3117  A Liga Ventures, aceleradora de startups espec...   pt  \n",
              "3118  Amazon has launched Chime, a video conferencin...   en  \n",
              "3119  February 9, 2017 - We begin each year with a l...   en  \n",
              "3120  At JPMorgan Chase & Co., a learning machine is...   en  \n",
              "3121  The Acquia Partner Awards Program is comprised...   en  \n",
              "\n",
              "[3122 rows x 13 columns]"
            ],
            "text/html": [
              "\n",
              "  <div id=\"df-3a3b1ed1-9583-45a2-979c-1b5db29ec72b\">\n",
              "    <div class=\"colab-df-container\">\n",
              "      <div>\n",
              "<style scoped>\n",
              "    .dataframe tbody tr th:only-of-type {\n",
              "        vertical-align: middle;\n",
              "    }\n",
              "\n",
              "    .dataframe tbody tr th {\n",
              "        vertical-align: top;\n",
              "    }\n",
              "\n",
              "    .dataframe thead th {\n",
              "        text-align: right;\n",
              "    }\n",
              "</style>\n",
              "<table border=\"1\" class=\"dataframe\">\n",
              "  <thead>\n",
              "    <tr style=\"text-align: right;\">\n",
              "      <th></th>\n",
              "      <th>timestamp</th>\n",
              "      <th>eventType</th>\n",
              "      <th>contentId</th>\n",
              "      <th>authorPersonId</th>\n",
              "      <th>authorSessionId</th>\n",
              "      <th>authorUserAgent</th>\n",
              "      <th>authorRegion</th>\n",
              "      <th>authorCountry</th>\n",
              "      <th>contentType</th>\n",
              "      <th>url</th>\n",
              "      <th>title</th>\n",
              "      <th>text</th>\n",
              "      <th>lang</th>\n",
              "    </tr>\n",
              "  </thead>\n",
              "  <tbody>\n",
              "    <tr>\n",
              "      <th>0</th>\n",
              "      <td>1459192779</td>\n",
              "      <td>CONTENT REMOVED</td>\n",
              "      <td>-6451309518266745024</td>\n",
              "      <td>4340306774493623681</td>\n",
              "      <td>8940341205206233829</td>\n",
              "      <td>NaN</td>\n",
              "      <td>NaN</td>\n",
              "      <td>NaN</td>\n",
              "      <td>HTML</td>\n",
              "      <td>http://www.nytimes.com/2016/03/28/business/dea...</td>\n",
              "      <td>Ethereum, a Virtual Currency, Enables Transact...</td>\n",
              "      <td>All of this work is still very early. The firs...</td>\n",
              "      <td>en</td>\n",
              "    </tr>\n",
              "    <tr>\n",
              "      <th>1</th>\n",
              "      <td>1459193988</td>\n",
              "      <td>CONTENT SHARED</td>\n",
              "      <td>-4110354420726924665</td>\n",
              "      <td>4340306774493623681</td>\n",
              "      <td>8940341205206233829</td>\n",
              "      <td>NaN</td>\n",
              "      <td>NaN</td>\n",
              "      <td>NaN</td>\n",
              "      <td>HTML</td>\n",
              "      <td>http://www.nytimes.com/2016/03/28/business/dea...</td>\n",
              "      <td>Ethereum, a Virtual Currency, Enables Transact...</td>\n",
              "      <td>All of this work is still very early. The firs...</td>\n",
              "      <td>en</td>\n",
              "    </tr>\n",
              "    <tr>\n",
              "      <th>2</th>\n",
              "      <td>1459194146</td>\n",
              "      <td>CONTENT SHARED</td>\n",
              "      <td>-7292285110016212249</td>\n",
              "      <td>4340306774493623681</td>\n",
              "      <td>8940341205206233829</td>\n",
              "      <td>NaN</td>\n",
              "      <td>NaN</td>\n",
              "      <td>NaN</td>\n",
              "      <td>HTML</td>\n",
              "      <td>http://cointelegraph.com/news/bitcoin-future-w...</td>\n",
              "      <td>Bitcoin Future: When GBPcoin of Branson Wins O...</td>\n",
              "      <td>The alarm clock wakes me at 8:00 with stream o...</td>\n",
              "      <td>en</td>\n",
              "    </tr>\n",
              "    <tr>\n",
              "      <th>3</th>\n",
              "      <td>1459194474</td>\n",
              "      <td>CONTENT SHARED</td>\n",
              "      <td>-6151852268067518688</td>\n",
              "      <td>3891637997717104548</td>\n",
              "      <td>-1457532940883382585</td>\n",
              "      <td>NaN</td>\n",
              "      <td>NaN</td>\n",
              "      <td>NaN</td>\n",
              "      <td>HTML</td>\n",
              "      <td>https://cloudplatform.googleblog.com/2016/03/G...</td>\n",
              "      <td>Google Data Center 360° Tour</td>\n",
              "      <td>We're excited to share the Google Data Center ...</td>\n",
              "      <td>en</td>\n",
              "    </tr>\n",
              "    <tr>\n",
              "      <th>4</th>\n",
              "      <td>1459194497</td>\n",
              "      <td>CONTENT SHARED</td>\n",
              "      <td>2448026894306402386</td>\n",
              "      <td>4340306774493623681</td>\n",
              "      <td>8940341205206233829</td>\n",
              "      <td>NaN</td>\n",
              "      <td>NaN</td>\n",
              "      <td>NaN</td>\n",
              "      <td>HTML</td>\n",
              "      <td>https://bitcoinmagazine.com/articles/ibm-wants...</td>\n",
              "      <td>IBM Wants to \"Evolve the Internet\" With Blockc...</td>\n",
              "      <td>The Aite Group projects the blockchain market ...</td>\n",
              "      <td>en</td>\n",
              "    </tr>\n",
              "    <tr>\n",
              "      <th>...</th>\n",
              "      <td>...</td>\n",
              "      <td>...</td>\n",
              "      <td>...</td>\n",
              "      <td>...</td>\n",
              "      <td>...</td>\n",
              "      <td>...</td>\n",
              "      <td>...</td>\n",
              "      <td>...</td>\n",
              "      <td>...</td>\n",
              "      <td>...</td>\n",
              "      <td>...</td>\n",
              "      <td>...</td>\n",
              "      <td>...</td>\n",
              "    </tr>\n",
              "    <tr>\n",
              "      <th>3117</th>\n",
              "      <td>1487946604</td>\n",
              "      <td>CONTENT SHARED</td>\n",
              "      <td>9213260650272029784</td>\n",
              "      <td>3609194402293569455</td>\n",
              "      <td>7144190892417579456</td>\n",
              "      <td>Mozilla/5.0 (Windows NT 10.0; WOW64) AppleWebK...</td>\n",
              "      <td>SP</td>\n",
              "      <td>BR</td>\n",
              "      <td>HTML</td>\n",
              "      <td>https://startupi.com.br/2017/02/liga-ventures-...</td>\n",
              "      <td>Conheça a Liga IoT, plataforma de inovação abe...</td>\n",
              "      <td>A Liga Ventures, aceleradora de startups espec...</td>\n",
              "      <td>pt</td>\n",
              "    </tr>\n",
              "    <tr>\n",
              "      <th>3118</th>\n",
              "      <td>1487947067</td>\n",
              "      <td>CONTENT SHARED</td>\n",
              "      <td>-3295913657316686039</td>\n",
              "      <td>6960073744377754728</td>\n",
              "      <td>-8193630595542572738</td>\n",
              "      <td>Mozilla/5.0 (Macintosh; Intel Mac OS X 10_12_3...</td>\n",
              "      <td>GA</td>\n",
              "      <td>US</td>\n",
              "      <td>HTML</td>\n",
              "      <td>https://thenextweb.com/apps/2017/02/14/amazon-...</td>\n",
              "      <td>Amazon takes on Skype and GoToMeeting with its...</td>\n",
              "      <td>Amazon has launched Chime, a video conferencin...</td>\n",
              "      <td>en</td>\n",
              "    </tr>\n",
              "    <tr>\n",
              "      <th>3119</th>\n",
              "      <td>1488223224</td>\n",
              "      <td>CONTENT SHARED</td>\n",
              "      <td>3618271604906293310</td>\n",
              "      <td>1908339160857512799</td>\n",
              "      <td>-183341653743161643</td>\n",
              "      <td>Mozilla/5.0 (Macintosh; Intel Mac OS X 10_12_0...</td>\n",
              "      <td>SP</td>\n",
              "      <td>BR</td>\n",
              "      <td>HTML</td>\n",
              "      <td>https://code.org/about/2016</td>\n",
              "      <td>Code.org 2016 Annual Report</td>\n",
              "      <td>February 9, 2017 - We begin each year with a l...</td>\n",
              "      <td>en</td>\n",
              "    </tr>\n",
              "    <tr>\n",
              "      <th>3120</th>\n",
              "      <td>1488300719</td>\n",
              "      <td>CONTENT SHARED</td>\n",
              "      <td>6607431762270322325</td>\n",
              "      <td>-1393866732742189886</td>\n",
              "      <td>2367029511384577082</td>\n",
              "      <td>Mozilla/5.0 (X11; Linux x86_64) AppleWebKit/53...</td>\n",
              "      <td>MG</td>\n",
              "      <td>BR</td>\n",
              "      <td>HTML</td>\n",
              "      <td>https://www.bloomberg.com/news/articles/2017-0...</td>\n",
              "      <td>JPMorgan Software Does in Seconds What Took La...</td>\n",
              "      <td>At JPMorgan Chase &amp; Co., a learning machine is...</td>\n",
              "      <td>en</td>\n",
              "    </tr>\n",
              "    <tr>\n",
              "      <th>3121</th>\n",
              "      <td>1488307871</td>\n",
              "      <td>CONTENT SHARED</td>\n",
              "      <td>4109618890343020064</td>\n",
              "      <td>3891637997717104548</td>\n",
              "      <td>-7416795577834806518</td>\n",
              "      <td>Mozilla/5.0 (X11; Linux x86_64) AppleWebKit/53...</td>\n",
              "      <td>SP</td>\n",
              "      <td>BR</td>\n",
              "      <td>HTML</td>\n",
              "      <td>https://www.acquia.com/blog/partner/2017-acqui...</td>\n",
              "      <td>The 2017 Acquia Partners of the Year</td>\n",
              "      <td>The Acquia Partner Awards Program is comprised...</td>\n",
              "      <td>en</td>\n",
              "    </tr>\n",
              "  </tbody>\n",
              "</table>\n",
              "<p>3122 rows × 13 columns</p>\n",
              "</div>\n",
              "      <button class=\"colab-df-convert\" onclick=\"convertToInteractive('df-3a3b1ed1-9583-45a2-979c-1b5db29ec72b')\"\n",
              "              title=\"Convert this dataframe to an interactive table.\"\n",
              "              style=\"display:none;\">\n",
              "        \n",
              "  <svg xmlns=\"http://www.w3.org/2000/svg\" height=\"24px\"viewBox=\"0 0 24 24\"\n",
              "       width=\"24px\">\n",
              "    <path d=\"M0 0h24v24H0V0z\" fill=\"none\"/>\n",
              "    <path d=\"M18.56 5.44l.94 2.06.94-2.06 2.06-.94-2.06-.94-.94-2.06-.94 2.06-2.06.94zm-11 1L8.5 8.5l.94-2.06 2.06-.94-2.06-.94L8.5 2.5l-.94 2.06-2.06.94zm10 10l.94 2.06.94-2.06 2.06-.94-2.06-.94-.94-2.06-.94 2.06-2.06.94z\"/><path d=\"M17.41 7.96l-1.37-1.37c-.4-.4-.92-.59-1.43-.59-.52 0-1.04.2-1.43.59L10.3 9.45l-7.72 7.72c-.78.78-.78 2.05 0 2.83L4 21.41c.39.39.9.59 1.41.59.51 0 1.02-.2 1.41-.59l7.78-7.78 2.81-2.81c.8-.78.8-2.07 0-2.86zM5.41 20L4 18.59l7.72-7.72 1.47 1.35L5.41 20z\"/>\n",
              "  </svg>\n",
              "      </button>\n",
              "      \n",
              "  <style>\n",
              "    .colab-df-container {\n",
              "      display:flex;\n",
              "      flex-wrap:wrap;\n",
              "      gap: 12px;\n",
              "    }\n",
              "\n",
              "    .colab-df-convert {\n",
              "      background-color: #E8F0FE;\n",
              "      border: none;\n",
              "      border-radius: 50%;\n",
              "      cursor: pointer;\n",
              "      display: none;\n",
              "      fill: #1967D2;\n",
              "      height: 32px;\n",
              "      padding: 0 0 0 0;\n",
              "      width: 32px;\n",
              "    }\n",
              "\n",
              "    .colab-df-convert:hover {\n",
              "      background-color: #E2EBFA;\n",
              "      box-shadow: 0px 1px 2px rgba(60, 64, 67, 0.3), 0px 1px 3px 1px rgba(60, 64, 67, 0.15);\n",
              "      fill: #174EA6;\n",
              "    }\n",
              "\n",
              "    [theme=dark] .colab-df-convert {\n",
              "      background-color: #3B4455;\n",
              "      fill: #D2E3FC;\n",
              "    }\n",
              "\n",
              "    [theme=dark] .colab-df-convert:hover {\n",
              "      background-color: #434B5C;\n",
              "      box-shadow: 0px 1px 3px 1px rgba(0, 0, 0, 0.15);\n",
              "      filter: drop-shadow(0px 1px 2px rgba(0, 0, 0, 0.3));\n",
              "      fill: #FFFFFF;\n",
              "    }\n",
              "  </style>\n",
              "\n",
              "      <script>\n",
              "        const buttonEl =\n",
              "          document.querySelector('#df-3a3b1ed1-9583-45a2-979c-1b5db29ec72b button.colab-df-convert');\n",
              "        buttonEl.style.display =\n",
              "          google.colab.kernel.accessAllowed ? 'block' : 'none';\n",
              "\n",
              "        async function convertToInteractive(key) {\n",
              "          const element = document.querySelector('#df-3a3b1ed1-9583-45a2-979c-1b5db29ec72b');\n",
              "          const dataTable =\n",
              "            await google.colab.kernel.invokeFunction('convertToInteractive',\n",
              "                                                     [key], {});\n",
              "          if (!dataTable) return;\n",
              "\n",
              "          const docLinkHtml = 'Like what you see? Visit the ' +\n",
              "            '<a target=\"_blank\" href=https://colab.research.google.com/notebooks/data_table.ipynb>data table notebook</a>'\n",
              "            + ' to learn more about interactive tables.';\n",
              "          element.innerHTML = '';\n",
              "          dataTable['output_type'] = 'display_data';\n",
              "          await google.colab.output.renderOutput(dataTable, element);\n",
              "          const docLink = document.createElement('div');\n",
              "          docLink.innerHTML = docLinkHtml;\n",
              "          element.appendChild(docLink);\n",
              "        }\n",
              "      </script>\n",
              "    </div>\n",
              "  </div>\n",
              "  "
            ]
          },
          "metadata": {},
          "execution_count": 6
        }
      ]
    },
    {
      "cell_type": "code",
      "source": [
        "print(articles_df['eventType'].value_counts())"
      ],
      "metadata": {
        "colab": {
          "base_uri": "https://localhost:8080/"
        },
        "id": "tsqA8Ovia9iQ",
        "outputId": "d713e18e-ecaa-451e-c2b8-dfcf953e46f6"
      },
      "execution_count": null,
      "outputs": [
        {
          "output_type": "stream",
          "name": "stdout",
          "text": [
            "CONTENT SHARED     3047\n",
            "CONTENT REMOVED      75\n",
            "Name: eventType, dtype: int64\n"
          ]
        }
      ]
    },
    {
      "cell_type": "code",
      "source": [
        "articles_df = articles_df[articles_df['eventType'] == 'CONTENT SHARED']\n",
        "print(articles_df.shape)"
      ],
      "metadata": {
        "colab": {
          "base_uri": "https://localhost:8080/"
        },
        "id": "Xvylu9FCdgYR",
        "outputId": "d62f1c84-83de-429d-b776-b5bbd7ebd293"
      },
      "execution_count": null,
      "outputs": [
        {
          "output_type": "stream",
          "name": "stdout",
          "text": [
            "(3047, 13)\n"
          ]
        }
      ]
    },
    {
      "cell_type": "code",
      "source": [
        "print(articles_df['contentId'].head(5))"
      ],
      "metadata": {
        "colab": {
          "base_uri": "https://localhost:8080/"
        },
        "id": "l0BKeQCjdiVJ",
        "outputId": "e285fb63-98f6-486e-eb06-7c11029f7bc1"
      },
      "execution_count": null,
      "outputs": [
        {
          "output_type": "stream",
          "name": "stdout",
          "text": [
            "1   -4110354420726924665\n",
            "2   -7292285110016212249\n",
            "3   -6151852268067518688\n",
            "4    2448026894306402386\n",
            "5   -2826566343807132236\n",
            "Name: contentId, dtype: int64\n"
          ]
        }
      ]
    },
    {
      "cell_type": "code",
      "source": [
        "print(articles_df['authorPersonId'].head(5))"
      ],
      "metadata": {
        "colab": {
          "base_uri": "https://localhost:8080/"
        },
        "id": "0oCURWJ4dj9O",
        "outputId": "e6b71e6f-33d5-4990-b739-f06fa09b3fbf"
      },
      "execution_count": null,
      "outputs": [
        {
          "output_type": "stream",
          "name": "stdout",
          "text": [
            "1    4340306774493623681\n",
            "2    4340306774493623681\n",
            "3    3891637997717104548\n",
            "4    4340306774493623681\n",
            "5    4340306774493623681\n",
            "Name: authorPersonId, dtype: int64\n"
          ]
        }
      ]
    },
    {
      "cell_type": "code",
      "source": [
        "#Retrieve unique values\n",
        "print(len(articles_df['authorPersonId'].unique()))"
      ],
      "metadata": {
        "colab": {
          "base_uri": "https://localhost:8080/"
        },
        "id": "gM7QprTOdq5U",
        "outputId": "ffe8896c-d15f-4a8d-974a-eca4261d8395"
      },
      "execution_count": null,
      "outputs": [
        {
          "output_type": "stream",
          "name": "stdout",
          "text": [
            "252\n"
          ]
        }
      ]
    },
    {
      "cell_type": "code",
      "source": [
        "print(articles_df['authorSessionId'].head(5))"
      ],
      "metadata": {
        "colab": {
          "base_uri": "https://localhost:8080/"
        },
        "id": "evKHRXeadsRl",
        "outputId": "ff43e165-c580-47a8-9af1-55df068b391d"
      },
      "execution_count": null,
      "outputs": [
        {
          "output_type": "stream",
          "name": "stdout",
          "text": [
            "1    8940341205206233829\n",
            "2    8940341205206233829\n",
            "3   -1457532940883382585\n",
            "4    8940341205206233829\n",
            "5    8940341205206233829\n",
            "Name: authorSessionId, dtype: int64\n"
          ]
        }
      ]
    },
    {
      "cell_type": "code",
      "source": [
        "print(articles_df['authorUserAgent'].tail(5))"
      ],
      "metadata": {
        "colab": {
          "base_uri": "https://localhost:8080/"
        },
        "id": "-RHHYy3BduOL",
        "outputId": "fabf4c41-fb96-470b-c66e-66641a2654e6"
      },
      "execution_count": null,
      "outputs": [
        {
          "output_type": "stream",
          "name": "stdout",
          "text": [
            "3117    Mozilla/5.0 (Windows NT 10.0; WOW64) AppleWebK...\n",
            "3118    Mozilla/5.0 (Macintosh; Intel Mac OS X 10_12_3...\n",
            "3119    Mozilla/5.0 (Macintosh; Intel Mac OS X 10_12_0...\n",
            "3120    Mozilla/5.0 (X11; Linux x86_64) AppleWebKit/53...\n",
            "3121    Mozilla/5.0 (X11; Linux x86_64) AppleWebKit/53...\n",
            "Name: authorUserAgent, dtype: object\n"
          ]
        }
      ]
    },
    {
      "cell_type": "code",
      "source": [
        "#Retrieve unique browsers\n",
        "print(len(articles_df['authorUserAgent'].unique()))"
      ],
      "metadata": {
        "colab": {
          "base_uri": "https://localhost:8080/"
        },
        "id": "huaoi5O0dv5E",
        "outputId": "699640e4-1dca-4056-9116-cde378367217"
      },
      "execution_count": null,
      "outputs": [
        {
          "output_type": "stream",
          "name": "stdout",
          "text": [
            "115\n"
          ]
        }
      ]
    },
    {
      "cell_type": "code",
      "source": [
        "print(articles_df['authorRegion'].tail(5))\n",
        "print(len(articles_df['authorRegion'].unique()))\n",
        "print(articles_df['authorRegion'].isnull().sum(axis=0))"
      ],
      "metadata": {
        "colab": {
          "base_uri": "https://localhost:8080/"
        },
        "id": "T9CW5PJNdxkC",
        "outputId": "ff1bfe2b-e60f-426b-b56d-982e95eef802"
      },
      "execution_count": null,
      "outputs": [
        {
          "output_type": "stream",
          "name": "stdout",
          "text": [
            "3117    SP\n",
            "3118    GA\n",
            "3119    SP\n",
            "3120    MG\n",
            "3121    SP\n",
            "Name: authorRegion, dtype: object\n",
            "20\n",
            "2378\n"
          ]
        }
      ]
    },
    {
      "cell_type": "code",
      "source": [
        "print(articles_df['authorCountry'].tail(5))\n",
        "print(articles_df['authorCountry'].unique())\n",
        "print(articles_df['authorCountry'].isnull().sum(axis=0))"
      ],
      "metadata": {
        "colab": {
          "base_uri": "https://localhost:8080/"
        },
        "id": "Y2-xkheddzNW",
        "outputId": "0559f07b-28cf-486b-ffb1-a2accfc43894"
      },
      "execution_count": null,
      "outputs": [
        {
          "output_type": "stream",
          "name": "stdout",
          "text": [
            "3117    BR\n",
            "3118    US\n",
            "3119    BR\n",
            "3120    BR\n",
            "3121    BR\n",
            "Name: authorCountry, dtype: object\n",
            "[nan 'BR' 'CA' 'US' 'AU' 'PT']\n",
            "2378\n"
          ]
        }
      ]
    },
    {
      "cell_type": "code",
      "source": [
        "print(articles_df['contentType'].unique())\n",
        "print(articles_df['contentType'].isnull().sum(axis=0))"
      ],
      "metadata": {
        "colab": {
          "base_uri": "https://localhost:8080/"
        },
        "id": "ymbwnXDtfAoi",
        "outputId": "f913749a-d0f8-4893-8e31-1158f16145ba"
      },
      "execution_count": null,
      "outputs": [
        {
          "output_type": "stream",
          "name": "stdout",
          "text": [
            "['HTML' 'RICH' 'VIDEO']\n",
            "0\n"
          ]
        }
      ]
    },
    {
      "cell_type": "code",
      "source": [
        "print(articles_df['url'].head(5))\n",
        "print(articles_df['url'].isnull().sum(axis=0))\n",
        "print(articles_df['url'].isna().sum(axis=0))"
      ],
      "metadata": {
        "colab": {
          "base_uri": "https://localhost:8080/"
        },
        "id": "U1gjtWwcfKNS",
        "outputId": "9da99281-2dea-41f4-b0cf-e498e8f61315"
      },
      "execution_count": null,
      "outputs": [
        {
          "output_type": "stream",
          "name": "stdout",
          "text": [
            "1    http://www.nytimes.com/2016/03/28/business/dea...\n",
            "2    http://cointelegraph.com/news/bitcoin-future-w...\n",
            "3    https://cloudplatform.googleblog.com/2016/03/G...\n",
            "4    https://bitcoinmagazine.com/articles/ibm-wants...\n",
            "5    http://www.coindesk.com/ieee-blockchain-oxford...\n",
            "Name: url, dtype: object\n",
            "0\n",
            "0\n"
          ]
        }
      ]
    },
    {
      "cell_type": "code",
      "source": [
        "print(articles_df['title'].head(5))\n",
        "print(articles_df['title'].isnull().sum(axis=0))\n",
        "print(articles_df['title'].isna().sum(axis=0))"
      ],
      "metadata": {
        "colab": {
          "base_uri": "https://localhost:8080/"
        },
        "id": "_wU2CvX5f1_Q",
        "outputId": "720240ab-94c5-47ca-a268-c2dcc0a4c8c0"
      },
      "execution_count": null,
      "outputs": [
        {
          "output_type": "stream",
          "name": "stdout",
          "text": [
            "1    Ethereum, a Virtual Currency, Enables Transact...\n",
            "2    Bitcoin Future: When GBPcoin of Branson Wins O...\n",
            "3                         Google Data Center 360° Tour\n",
            "4    IBM Wants to \"Evolve the Internet\" With Blockc...\n",
            "5    IEEE to Talk Blockchain at Cloud Computing Oxf...\n",
            "Name: title, dtype: object\n",
            "0\n",
            "0\n"
          ]
        }
      ]
    },
    {
      "cell_type": "code",
      "source": [
        "print(articles_df['text'].head(5))\n",
        "print(articles_df['text'].isnull().sum(axis=0))\n",
        "print(articles_df['text'].isna().sum(axis=0))"
      ],
      "metadata": {
        "colab": {
          "base_uri": "https://localhost:8080/"
        },
        "id": "tK5ScH0if74d",
        "outputId": "1e29849a-19e5-4ec2-9734-ad41f6c76bf1"
      },
      "execution_count": null,
      "outputs": [
        {
          "output_type": "stream",
          "name": "stdout",
          "text": [
            "1    All of this work is still very early. The firs...\n",
            "2    The alarm clock wakes me at 8:00 with stream o...\n",
            "3    We're excited to share the Google Data Center ...\n",
            "4    The Aite Group projects the blockchain market ...\n",
            "5    One of the largest and oldest organizations fo...\n",
            "Name: text, dtype: object\n",
            "0\n",
            "0\n"
          ]
        }
      ]
    },
    {
      "cell_type": "code",
      "source": [
        "print(articles_df['lang'].unique())\n",
        "print(articles_df['lang'].isnull().sum(axis=0))\n",
        "print(articles_df['lang'].isna().sum(axis=0))"
      ],
      "metadata": {
        "colab": {
          "base_uri": "https://localhost:8080/"
        },
        "id": "ZeVazXQhf-pu",
        "outputId": "a42dd6b3-a302-4503-b6a9-33e183a5a202"
      },
      "execution_count": null,
      "outputs": [
        {
          "output_type": "stream",
          "name": "stdout",
          "text": [
            "['en' 'pt' 'es' 'la' 'ja']\n",
            "0\n",
            "0\n"
          ]
        }
      ]
    },
    {
      "cell_type": "code",
      "source": [
        "articles_df = articles_df[articles_df['lang'] == 'en']\n",
        "print(articles_df.shape)"
      ],
      "metadata": {
        "colab": {
          "base_uri": "https://localhost:8080/"
        },
        "id": "axCe1_6Agdtn",
        "outputId": "c6c69c5b-d84f-40b6-cdc0-ba2f8059bcf9"
      },
      "execution_count": null,
      "outputs": [
        {
          "output_type": "stream",
          "name": "stdout",
          "text": [
            "(2264, 13)\n"
          ]
        }
      ]
    },
    {
      "cell_type": "code",
      "source": [
        "articles_df = pd.DataFrame(articles_df, columns=['contentId', 'authorPersonId', 'content', 'title', 'text'])"
      ],
      "metadata": {
        "id": "R0yNB5txg2uv"
      },
      "execution_count": null,
      "outputs": []
    },
    {
      "cell_type": "markdown",
      "source": [
        "#Creating functions for modelling the dataset"
      ],
      "metadata": {
        "id": "2KWyWxj4FVjs"
      }
    },
    {
      "cell_type": "code",
      "source": [
        "def create_soup(x):\n",
        "    soup = ' '.join(x['text'])\n",
        "    return soup\n",
        "articles_df['soup'] = articles_df.apply(create_soup, axis=1)"
      ],
      "metadata": {
        "id": "gARH7IvCg7Bn"
      },
      "execution_count": null,
      "outputs": []
    },
    {
      "cell_type": "markdown",
      "source": [
        "##Purifing the dataset by removing punctuations and articles"
      ],
      "metadata": {
        "id": "KhKLSgB0F2H0"
      }
    },
    {
      "cell_type": "code",
      "source": [
        "# Define a TF-IDF Vectorizer Object. Remove all english stop words such as 'the', 'a'\n",
        "tfidf = TfidfVectorizer(stop_words='english')\n",
        "\n",
        "# Construct the required TF-IDF matrix by fitting and transforming the data\n",
        "tfidf_matrix = tfidf.fit_transform(articles_df['text'])"
      ],
      "metadata": {
        "id": "3Ss6cvPJg9y3"
      },
      "execution_count": null,
      "outputs": []
    },
    {
      "cell_type": "markdown",
      "source": [
        "##Mapping array of featuress to indices"
      ],
      "metadata": {
        "id": "LXuWTGUVGJtK"
      }
    },
    {
      "cell_type": "code",
      "source": [
        "# Output the shape of tfidf_matrix\n",
        "print(tfidf_matrix.shape)\n",
        "# print(tfidf.get_stop_words().pop())\n",
        "\n",
        "# Array mapping from feature integer indices to feature name.\n",
        "print(tfidf.get_feature_names_out()[5000:5010])"
      ],
      "metadata": {
        "colab": {
          "base_uri": "https://localhost:8080/"
        },
        "id": "oqcF9zWWhOx-",
        "outputId": "87ebd3aa-aaca-4ac5-cc76-036a69264475"
      },
      "execution_count": null,
      "outputs": [
        {
          "output_type": "stream",
          "name": "stdout",
          "text": [
            "(2264, 45514)\n",
            "['banter' 'baptista' 'baptiste' 'baptized' 'bar' 'barack' 'barani'\n",
            " 'baratheon' 'barauskas' 'barb']\n"
          ]
        }
      ]
    },
    {
      "cell_type": "markdown",
      "source": [
        "##ML model Cosine Similarity\n",
        "\n",
        "---\n",
        "\n",
        "\n",
        "*   Cosine similarity is a metric used to measure the similarity between two vectors in a high-dimensional space.\n",
        "*   It calculates the cosine of the angle between the two vectors.\n",
        "Cosine similarity is often used in information retrieval, natural language processing, and recommendation systems\n",
        "*   It quantifies the similarity based on the orientation of the vectors rather than their magnitude.\n",
        "*   The resulting similarity score ranges from -1 to 1, where 1 indicates identical vectors, 0 indicates no similarity, and -1 indicates exact opposite vectors.\n",
        "*   Cosine similarity is advantageous when comparing text documents or items because it considers the semantic meaning rather than just the occurrence or frequency of words.\n",
        "*   It is particularly useful when dealing with high-dimensional data, such as text documents represented by the bag-of-words model or TF-IDF vectors.\n",
        "*   Cosine similarity is computationally efficient and widely used in various applications, including document similarity, content-based filtering, and collaborative filtering.\n",
        "*   It is a robust similarity measure that is unaffected by the vector length or scaling, making it suitable for comparing documents of different lengths.\n",
        "*   Cosine similarity is an effective tool for tasks such as information retrieval, recommendation systems, clustering, and text classification.\n",
        "\n",
        "\n",
        "\n",
        "\n",
        "\n",
        "\n",
        "\n",
        "\n",
        "\n",
        "\n"
      ],
      "metadata": {
        "id": "Wa4Q420gG7cI"
      }
    },
    {
      "cell_type": "code",
      "source": [
        "cosine_sim = cosine_similarity(tfidf_matrix, tfidf_matrix, True)\n",
        "display(cosine_sim.shape)\n",
        "display(cosine_sim)"
      ],
      "metadata": {
        "colab": {
          "base_uri": "https://localhost:8080/",
          "height": 275
        },
        "id": "acQecUuOhRf5",
        "outputId": "8b9b7279-9793-4f06-bd26-25d46abe8284"
      },
      "execution_count": null,
      "outputs": [
        {
          "output_type": "display_data",
          "data": {
            "text/plain": [
              "(2264, 2264)"
            ]
          },
          "metadata": {}
        },
        {
          "output_type": "display_data",
          "data": {
            "text/plain": [
              "array([[1.        , 1.        , 0.02838652, ..., 0.04728543, 0.08469279,\n",
              "        0.01861113],\n",
              "       [1.        , 1.        , 0.02838652, ..., 0.04728543, 0.08469279,\n",
              "        0.01861113],\n",
              "       [0.02838652, 0.02838652, 1.        , ..., 0.02562211, 0.03176227,\n",
              "        0.01113377],\n",
              "       ...,\n",
              "       [0.04728543, 0.04728543, 0.02562211, ..., 1.        , 0.05475127,\n",
              "        0.0767066 ],\n",
              "       [0.08469279, 0.08469279, 0.03176227, ..., 0.05475127, 1.        ,\n",
              "        0.03956185],\n",
              "       [0.01861113, 0.01861113, 0.01113377, ..., 0.0767066 , 0.03956185,\n",
              "        1.        ]])"
            ]
          },
          "metadata": {}
        }
      ]
    },
    {
      "cell_type": "code",
      "source": [
        "# Reset index of main DataFrame and construct reverse mapping as before\n",
        "metadata = articles_df.reset_index()\n",
        "indices = pd.Series(metadata.index, index=metadata['title']).drop_duplicates()\n",
        "display(indices[:10])"
      ],
      "metadata": {
        "colab": {
          "base_uri": "https://localhost:8080/",
          "height": 238
        },
        "id": "1NpLPh9yh1bb",
        "outputId": "66f4ea55-c240-4f88-f727-a940c40af5fc"
      },
      "execution_count": null,
      "outputs": [
        {
          "output_type": "display_data",
          "data": {
            "text/plain": [
              "title\n",
              "Ethereum, a Virtual Currency, Enables Transactions That Rival Bitcoin's                                          0\n",
              "Ethereum, a Virtual Currency, Enables Transactions That Rival Bitcoin's                                          1\n",
              "Bitcoin Future: When GBPcoin of Branson Wins Over USDcoin of Trump                                               2\n",
              "Google Data Center 360° Tour                                                                                     3\n",
              "IBM Wants to \"Evolve the Internet\" With Blockchain Technology                                                    4\n",
              "IEEE to Talk Blockchain at Cloud Computing Oxford-Con - CoinDesk                                                 5\n",
              "Banks Need To Collaborate With Bitcoin and Fintech Developers                                                    6\n",
              "Blockchain Technology Could Put Bank Auditors Out of Work                                                        7\n",
              "Why Decentralized Conglomerates Will Scale Better than Bitcoin - Interview with OpenLedger CEO - Bitcoin News    8\n",
              "The Rise And Growth of Ethereum Gets Mainstream Coverage                                                         9\n",
              "dtype: int64"
            ]
          },
          "metadata": {}
        }
      ]
    },
    {
      "cell_type": "code",
      "source": [
        "def get_recommendations(title, indices, cosine_sim, data):\n",
        "    idx = indices[title]\n",
        "    sim_scores = list(enumerate(cosine_sim[idx]))\n",
        "    sim_scores = sorted(sim_scores, key=lambda x: x[1], reverse=True)\n",
        "    sim_scores = sim_scores[1:11]\n",
        "    movie_indices = [i[0] for i in sim_scores]\n",
        "    return data['title'].iloc[movie_indices]"
      ],
      "metadata": {
        "id": "qfLGUrjyh4FG"
      },
      "execution_count": null,
      "outputs": []
    },
    {
      "cell_type": "code",
      "source": [
        "print(get_recommendations('Intel\\'s internal IoT platform for real-time enterprise analytics', indices, cosine_sim, metadata))"
      ],
      "metadata": {
        "colab": {
          "base_uri": "https://localhost:8080/"
        },
        "id": "vb9ZZmvEh6gQ",
        "outputId": "b4702f28-c7a3-4c64-9fbb-db1c2665f140"
      },
      "execution_count": null,
      "outputs": [
        {
          "output_type": "stream",
          "name": "stdout",
          "text": [
            "1148    Comparing IoT Platforms: Compare 4 IoT platfor...\n",
            "1682    Bring a dinosaur to life with Watson IoT Platf...\n",
            "1220       Decentralizing IoT networks through blockchain\n",
            "264     IoT Day: A timeline of how IoT is changing the...\n",
            "2150    Relating a Problem Definition to IoT Architect...\n",
            "460     How IoT security can benefit from machine lear...\n",
            "131     Is the Internet of Things in Your Home? Or on ...\n",
            "1883    IoT Insurance: Trends in Home, Life & Auto Ins...\n",
            "1580    Popular Internet of Things Forecast of 50 Bill...\n",
            "1730    The Internet of Things is looking for its Visi...\n",
            "Name: title, dtype: object\n"
          ]
        }
      ]
    },
    {
      "cell_type": "code",
      "source": [
        "print(get_recommendations('Google Data Center 360° Tour', indices, cosine_sim, metadata))"
      ],
      "metadata": {
        "colab": {
          "base_uri": "https://localhost:8080/"
        },
        "id": "on_RJyQ7h9Vc",
        "outputId": "dcd78989-6594-432a-89af-96d6ced30e20"
      },
      "execution_count": null,
      "outputs": [
        {
          "output_type": "stream",
          "name": "stdout",
          "text": [
            "126     Google shares data center security and design ...\n",
            "739     YouTube's New Messenger Means You'll Never Hav...\n",
            "555                          This year's Founders' Letter\n",
            "213     Google Cloud Platform: The smart person's guid...\n",
            "452     Top 5 GCP NEXT breakout sessions on YouTube (s...\n",
            "724     Google I/O 2016 Preview: A Chrome/Android merg...\n",
            "2111    [Tools] How to Record your Desktop Screen with...\n",
            "778     Google I/O 2016 preview: Android N, Android VR...\n",
            "786     Here's proof that Google is getting serious ab...\n",
            "781     Google I/O 2016 Preview: Machine Learning, Vir...\n",
            "Name: title, dtype: object\n"
          ]
        }
      ]
    },
    {
      "cell_type": "code",
      "source": [
        "print(get_recommendations('The Rise And Growth of Ethereum Gets Mainstream Coverage', indices, cosine_sim, metadata))"
      ],
      "metadata": {
        "id": "bAC6GV4MiIXb"
      },
      "execution_count": null,
      "outputs": []
    }
  ]
}